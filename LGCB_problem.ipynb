{
  "nbformat": 4,
  "nbformat_minor": 0,
  "metadata": {
    "colab": {
      "provenance": [],
      "authorship_tag": "ABX9TyOD5rMcLDLFC6yPl0aB867Q",
      "include_colab_link": true
    },
    "kernelspec": {
      "name": "python3",
      "display_name": "Python 3"
    },
    "language_info": {
      "name": "python"
    }
  },
  "cells": [
    {
      "cell_type": "markdown",
      "metadata": {
        "id": "view-in-github",
        "colab_type": "text"
      },
      "source": [
        "<a href=\"https://colab.research.google.com/github/Ashishchhipa/Lion-Goat-Cabbage/blob/main/LGCB_problem.ipynb\" target=\"_parent\"><img src=\"https://colab.research.google.com/assets/colab-badge.svg\" alt=\"Open In Colab\"/></a>"
      ]
    },
    {
      "cell_type": "code",
      "source": [
        "from copy import deepcopy"
      ],
      "metadata": {
        "id": "kkULMwq3bokn"
      },
      "execution_count": 29,
      "outputs": []
    },
    {
      "cell_type": "markdown",
      "source": [
        "## Representation of LGC Problem\n",
        "\n",
        "[1,1,1,1] = [Lion, Goat, Cabbage, Boatman]\n",
        "\n",
        "1 represents that they are on the left side.\n",
        "\n",
        "0 represents that they are on the right side.\n"
      ],
      "metadata": {
        "id": "JYzHxzCOjzZn"
      }
    },
    {
      "cell_type": "code",
      "source": [
        "## Checking the cases where Lion and Goat are not together without boatman on both side and same for goat and cabbage and all are without boatman\n",
        "def verfication(node):\n",
        "  if node==[1,1,0,0] or node==[0,0,1,1] or node==[0,1,1,0] or node==[1,0,0,1] or node==[1,1,1,0] or node==[0,0,0,1] :\n",
        "    return False\n",
        "  return True"
      ],
      "metadata": {
        "id": "JasYLTjkaX0N"
      },
      "execution_count": 30,
      "outputs": []
    },
    {
      "cell_type": "code",
      "execution_count": 31,
      "metadata": {
        "id": "G6L2U9OsWkS4"
      },
      "outputs": [],
      "source": [
        "def MoveGen(node):\n",
        "  ans=[]\n",
        "  if node[3]==1:\n",
        "    if(node[0]==1): ## Here boatman and Lion on Right side\n",
        "      temp=deepcopy(node)\n",
        "      temp[3]=0\n",
        "      temp[0]=0\n",
        "      if(verfication(temp)):\n",
        "        ans.append(temp)\n",
        "    if(node[1]==1): ## Here boatman and Goat on Right side\n",
        "      temp=deepcopy(node)\n",
        "      temp[3]=0\n",
        "      temp[1]=0\n",
        "      if(verfication(temp)):\n",
        "        ans.append(temp)\n",
        "    if(node[2]==1): ## Here boatman and Cabbage on Right side\n",
        "      temp=deepcopy(node)\n",
        "      temp[3]=0\n",
        "      temp[2]=0\n",
        "      if(verfication(temp)):\n",
        "        ans.append(temp)\n",
        "    temp=deepcopy(node) ## Here boatman Right side\n",
        "    temp[3]=0\n",
        "    if(verfication(temp)):\n",
        "      ans.append(temp)\n",
        "  else:\n",
        "      if(node[0]==0): ## Here boatman and Lion on left side\n",
        "        temp=deepcopy(node)\n",
        "        temp[3]=1\n",
        "        temp[0]=1\n",
        "        if(verfication(temp)):\n",
        "          ans.append(temp)\n",
        "      if(node[1]==0):  ## Here boatman and Goat on left side\n",
        "        temp=deepcopy(node)\n",
        "        temp[3]=1\n",
        "        temp[1]=1\n",
        "        if(verfication(temp)):\n",
        "          ans.append(temp)\n",
        "      if(node[2]==0):## Here boatman and Cabbage on left side\n",
        "        temp=deepcopy(node)\n",
        "        temp[3]=1\n",
        "        temp[2]=1\n",
        "        if(verfication(temp)):\n",
        "          ans.append(temp)\n",
        "      temp=deepcopy(node)\n",
        "      temp[3]=1 ## Here boatman left side\n",
        "      if(verfication(temp)):\n",
        "        ans.append(temp)\n",
        "  return ans\n"
      ]
    },
    {
      "cell_type": "code",
      "source": [
        "def RemoveSeen(Closed,children):\n",
        "  ans=[]\n",
        "  for i in range(len(children)):\n",
        "    flag=False\n",
        "    for j in range(len(Closed)):\n",
        "      if(children[i]==Closed[j][0]):\n",
        "        flag=True\n",
        "        break\n",
        "    if(flag==False):\n",
        "      ans.append(children[i])\n",
        "  return ans"
      ],
      "metadata": {
        "id": "A1XD59S0mpnk"
      },
      "execution_count": 32,
      "outputs": []
    },
    {
      "cell_type": "code",
      "source": [
        "## Here we are making pairs with their parent Node\n",
        "def Makepairs(NewNode,NodePair):\n",
        "  parent = []\n",
        "  for i in range(len(NewNode)):\n",
        "    temp=[]\n",
        "    temp.append(NewNode[i])\n",
        "    temp.append(NodePair)\n",
        "    parent.append(temp);\n",
        "  return parent"
      ],
      "metadata": {
        "id": "S9emdQ2wmpq9"
      },
      "execution_count": 33,
      "outputs": []
    },
    {
      "cell_type": "code",
      "source": [
        "def Reverse(lst):\n",
        "   new_lst = lst[::-1]\n",
        "   return new_lst\n",
        "\n",
        "## When we find our goal node, then we are going to print all their parents and that node.\n",
        "def ReconstructPath(NodePair,Closed):\n",
        "  parent=[]\n",
        "  parent.append(NodePair)\n",
        "  for i in Closed:\n",
        "        if i[0]==NodePair:\n",
        "          if(NodePair!=i[1]):\n",
        "            temp=ReconstructPath(i[1],Closed)\n",
        "            for i in temp:\n",
        "                parent.append(i)\n",
        "          else:\n",
        "            break\n",
        "  return parent"
      ],
      "metadata": {
        "id": "ZEZjlDEsmph0"
      },
      "execution_count": 34,
      "outputs": []
    },
    {
      "cell_type": "code",
      "source": [
        "def db_dfs(OpenNode, GoalNode, depth):\n",
        "    Open = []\n",
        "    Closed = []\n",
        "    temp = [OpenNode, OpenNode, 0]\n",
        "    Open.append(temp)\n",
        "    Closed.append(temp)\n",
        "\n",
        "    while Open:\n",
        "        NodePair = Open[0][0]\n",
        "        NodeParent = Open[0][1]\n",
        "        NodeDepth = Open[0][2]\n",
        "        Open.pop(0)\n",
        "\n",
        "        if GoalNode == NodePair:\n",
        "            return ReconstructPath(NodeParent, Closed)\n",
        "\n",
        "        if NodeDepth < depth:\n",
        "            children = MoveGen(NodePair)\n",
        "            NewNode = RemoveSeen(Closed, children)\n",
        "            NewPairs = Makepairs(NewNode, NodePair)\n",
        "\n",
        "            for it in NewPairs:\n",
        "                it.append(NodeDepth + 1)\n",
        "                Closed.append(it)\n",
        "                Open.insert(0, it)\n",
        "\n",
        "    return None\n"
      ],
      "metadata": {
        "id": "nLVjI8lXuMM4"
      },
      "execution_count": 42,
      "outputs": []
    },
    {
      "cell_type": "code",
      "source": [
        "def DFID(OpenNode , GoalNode):\n",
        "  depth = 0\n",
        "  while True:\n",
        "    result = db_dfs(OpenNode,GoalNode,depth)\n",
        "    if result:\n",
        "      return result\n",
        "    depth+=1"
      ],
      "metadata": {
        "id": "lL5QnPCwuJnU"
      },
      "execution_count": 43,
      "outputs": []
    },
    {
      "cell_type": "code",
      "source": [
        "def DFS(OpenNode , GoalNode):\n",
        "    Open = []\n",
        "    temp=[]\n",
        "    temp.append(OpenNode)\n",
        "    temp.append(OpenNode)\n",
        "    Open.append(temp)\n",
        "    Closed = []\n",
        "    Closed.append(temp)\n",
        "    while (len(Open) > 0) :\n",
        "      NodePair = Open[0][0]\n",
        "      NodeParent = Open[0][1]\n",
        "      Open.pop(0);\n",
        "      if(GoalNode == NodePair):\n",
        "        return ReconstructPath(NodeParent,Closed)\n",
        "      else:\n",
        "        children = MoveGen(NodePair)\n",
        "        NewNode = RemoveSeen(Closed,children)\n",
        "        NewPairs = Makepairs(NewNode,NodePair)\n",
        "        for it in NewPairs:\n",
        "          Closed.append(it)\n",
        "          Open.insert(0,it)\n",
        "    return None"
      ],
      "metadata": {
        "id": "X2L6wN2cq0_P"
      },
      "execution_count": 37,
      "outputs": []
    },
    {
      "cell_type": "code",
      "source": [
        "def BFS(OpenNode , GoalNode):\n",
        "    Open = []\n",
        "    temp=[]\n",
        "    temp.append(OpenNode)\n",
        "    temp.append(OpenNode)\n",
        "    Open.append(temp)\n",
        "    Closed = []\n",
        "    Closed.append(temp)\n",
        "    while (len(Open) > 0) :\n",
        "      NodePair = Open[0][0]\n",
        "      NodeParent = Open[0][1]\n",
        "      Open.pop(0);\n",
        "      if(GoalNode == NodePair):\n",
        "        return ReconstructPath(NodeParent,Closed)\n",
        "      else:\n",
        "        children = MoveGen(NodePair)\n",
        "        NewNode = RemoveSeen(Closed,children)\n",
        "        NewPairs = Makepairs(NewNode,NodePair)\n",
        "        for it in NewPairs:\n",
        "          Closed.append(it)\n",
        "          Open.append(it)\n",
        "    return None"
      ],
      "metadata": {
        "id": "h7mc611CfPP0"
      },
      "execution_count": 38,
      "outputs": []
    },
    {
      "cell_type": "code",
      "source": [
        "OpenNode=[1,1,1,1]\n",
        "GoalNode=[0,0,0,0]\n",
        "temp=BFS(OpenNode,GoalNode)\n",
        "temp=Reverse(temp)\n",
        "temp.append(GoalNode)\n",
        "print(temp)"
      ],
      "metadata": {
        "id": "ChCzItDlbK38",
        "colab": {
          "base_uri": "https://localhost:8080/"
        },
        "outputId": "646710a1-df8a-49ea-ba3d-c130d4d957a4"
      },
      "execution_count": 39,
      "outputs": [
        {
          "output_type": "stream",
          "name": "stdout",
          "text": [
            "[[1, 1, 1, 1], [1, 0, 1, 0], [1, 0, 1, 1], [0, 0, 1, 0], [0, 1, 1, 1], [0, 1, 0, 0], [0, 1, 0, 1], [0, 0, 0, 0]]\n"
          ]
        }
      ]
    },
    {
      "cell_type": "code",
      "source": [
        "OpenNode=[1,1,1,1]\n",
        "GoalNode=[0,0,0,0]\n",
        "temp=DFS(OpenNode,GoalNode)\n",
        "temp=Reverse(temp)\n",
        "temp.append(GoalNode)\n",
        "print(temp)"
      ],
      "metadata": {
        "id": "gKeAEIjYq7Tl",
        "colab": {
          "base_uri": "https://localhost:8080/"
        },
        "outputId": "7b6ec1e9-7d53-4a4d-dade-bcbf33166ccc"
      },
      "execution_count": 40,
      "outputs": [
        {
          "output_type": "stream",
          "name": "stdout",
          "text": [
            "[[1, 1, 1, 1], [1, 0, 1, 0], [1, 0, 1, 1], [1, 0, 0, 0], [1, 1, 0, 1], [0, 1, 0, 0], [0, 1, 0, 1], [0, 0, 0, 0]]\n"
          ]
        }
      ]
    },
    {
      "cell_type": "code",
      "source": [
        "OpenNode=[1,1,1,1]\n",
        "GoalNode=[0,0,0,0]\n",
        "temp=DFID(OpenNode,GoalNode)\n",
        "temp=Reverse(temp)\n",
        "temp.append(GoalNode)\n",
        "print(temp)"
      ],
      "metadata": {
        "colab": {
          "base_uri": "https://localhost:8080/"
        },
        "id": "EjhYTUGclBS9",
        "outputId": "660bf82e-9fc5-420d-ff5a-a235b2b2496d"
      },
      "execution_count": 44,
      "outputs": [
        {
          "output_type": "stream",
          "name": "stdout",
          "text": [
            "[[1, 1, 1, 1], [1, 0, 1, 0], [1, 0, 1, 1], [1, 0, 0, 0], [1, 1, 0, 1], [0, 1, 0, 0], [0, 1, 0, 1], [0, 0, 0, 0]]\n"
          ]
        }
      ]
    },
    {
      "cell_type": "code",
      "source": [],
      "metadata": {
        "id": "SxUF2x7ulEFl"
      },
      "execution_count": null,
      "outputs": []
    }
  ]
}